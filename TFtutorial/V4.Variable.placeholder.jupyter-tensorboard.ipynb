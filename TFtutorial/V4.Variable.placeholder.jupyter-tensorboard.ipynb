{
 "cells": [
  {
   "cell_type": "markdown",
   "metadata": {},
   "source": [
    "# Variable / PlaceHolder"
   ]
  },
  {
   "cell_type": "code",
   "execution_count": 1,
   "metadata": {},
   "outputs": [
    {
     "name": "stderr",
     "output_type": "stream",
     "text": [
      "/home/kilean/anaconda3/lib/python3.6/site-packages/h5py/__init__.py:36: FutureWarning: Conversion of the second argument of issubdtype from `float` to `np.floating` is deprecated. In future, it will be treated as `np.float64 == np.dtype(float).type`.\n",
      "  from ._conv import register_converters as _register_converters\n"
     ]
    }
   ],
   "source": [
    "import tensorflow as tf"
   ]
  },
  {
   "cell_type": "markdown",
   "metadata": {},
   "source": [
    "### Variable"
   ]
  },
  {
   "cell_type": "code",
   "execution_count": 2,
   "metadata": {},
   "outputs": [
    {
     "name": "stdout",
     "output_type": "stream",
     "text": [
      "0\n",
      "1\n",
      "2\n"
     ]
    }
   ],
   "source": [
    "tf.reset_default_graph()\n",
    "state = tf.Variable(0)  # note capital V\n",
    "init_op = tf.global_variables_initializer()\n",
    "add_op = tf.add(state,1)\n",
    "assign_op = tf.assign(state,add_op)\n",
    "with tf.Session() as sess:\n",
    "        sess.run(init_op)\n",
    "        print(sess.run(state))\n",
    "        sess.run(assign_op)\n",
    "        print(sess.run(state))\n",
    "        sess.run(assign_op)\n",
    "        print(sess.run(state))\n",
    "        tf.summary.FileWriter('./tensorboard/V4', sess.graph)"
   ]
  },
  {
   "cell_type": "markdown",
   "metadata": {},
   "source": [
    "### Placeholder"
   ]
  },
  {
   "cell_type": "markdown",
   "metadata": {},
   "source": [
    "##### without name"
   ]
  },
  {
   "cell_type": "code",
   "execution_count": 3,
   "metadata": {},
   "outputs": [
    {
     "name": "stdout",
     "output_type": "stream",
     "text": [
      "[[1.        3.       ]\n",
      " [5.        7.6000004]]\n"
     ]
    }
   ],
   "source": [
    "tf.reset_default_graph()\n",
    "a = tf.placeholder(tf.float32)\n",
    "b = tf.constant(2.0)\n",
    "c = tf.constant(1.0)\n",
    "d = a*b - c\n",
    "with tf.Session() as sess:\n",
    "        result = sess.run(d,feed_dict={ a: [ [1,2], [3,4.3] ] } )\n",
    "        print(result)\n",
    "        tf.summary.FileWriter('./tensorboard/V4', sess.graph)"
   ]
  },
  {
   "cell_type": "markdown",
   "metadata": {},
   "source": [
    "##### with name"
   ]
  },
  {
   "cell_type": "code",
   "execution_count": 4,
   "metadata": {},
   "outputs": [],
   "source": [
    "tf.reset_default_graph()\n",
    "a = tf.placeholder(tf.float32,name='a')\n",
    "b = tf.constant(2.0,name='b')\n",
    "c = tf.constant(1.0,name='c')\n",
    "d = a*b - c\n",
    "with tf.Session() as sess:\n",
    "        sess.run(d,feed_dict={ a: [ [1,2], [3,4.3] ] } )\n",
    "        tf.summary.FileWriter('./tensorboard/V4', sess.graph)"
   ]
  },
  {
   "cell_type": "code",
   "execution_count": null,
   "metadata": {},
   "outputs": [],
   "source": []
  }
 ],
 "metadata": {
  "kernelspec": {
   "display_name": "Python 3",
   "language": "python",
   "name": "python3"
  },
  "language_info": {
   "codemirror_mode": {
    "name": "ipython",
    "version": 3
   },
   "file_extension": ".py",
   "mimetype": "text/x-python",
   "name": "python",
   "nbconvert_exporter": "python",
   "pygments_lexer": "ipython3",
   "version": "3.6.5"
  }
 },
 "nbformat": 4,
 "nbformat_minor": 2
}

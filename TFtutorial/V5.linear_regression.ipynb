{
 "cells": [
  {
   "cell_type": "markdown",
   "metadata": {},
   "source": [
    "# Linear Regression"
   ]
  },
  {
   "cell_type": "code",
   "execution_count": 1,
   "metadata": {},
   "outputs": [
    {
     "name": "stderr",
     "output_type": "stream",
     "text": [
      "/home/kilean/anaconda3/lib/python3.6/site-packages/h5py/__init__.py:36: FutureWarning: Conversion of the second argument of issubdtype from `float` to `np.floating` is deprecated. In future, it will be treated as `np.float64 == np.dtype(float).type`.\n",
      "  from ._conv import register_converters as _register_converters\n"
     ]
    }
   ],
   "source": [
    "import numpy as np\n",
    "import tensorflow as tf\n",
    "import matplotlib.patches as mpatches\n",
    "import matplotlib.pyplot as plt\n",
    "%matplotlib inline\n",
    "plt.rcParams['figure.figsize']=(10,6)\n",
    "tf.reset_default_graph()"
   ]
  },
  {
   "cell_type": "markdown",
   "metadata": {},
   "source": [
    "# Data preparation"
   ]
  },
  {
   "cell_type": "code",
   "execution_count": 2,
   "metadata": {},
   "outputs": [],
   "source": [
    "# print(np.vectorize.__doc__)"
   ]
  },
  {
   "cell_type": "code",
   "execution_count": 3,
   "metadata": {},
   "outputs": [
    {
     "data": {
      "text/plain": [
       "<matplotlib.collections.PathCollection at 0x7fa76747fc50>"
      ]
     },
     "execution_count": 3,
     "metadata": {},
     "output_type": "execute_result"
    },
    {
     "data": {
      "image/png": "[encoded data removed]",
      "text/plain": [
       "<Figure size 432x288 with 1 Axes>"
      ]
     },
     "metadata": {},
     "output_type": "display_data"
    }
   ],
   "source": [
    "x_data = np.random.rand(100).astype(np.float32)\n",
    "y_data = 3*x_data + 2\n",
    "y_data = np.vectorize(lambda y : y + np.random.normal(loc=0.0,scale=0.1))(y_data)\n",
    "plt.scatter(x_data,y_data)"
   ]
  },
  {
   "cell_type": "markdown",
   "metadata": {},
   "source": [
    "# Create Graph"
   ]
  },
  {
   "cell_type": "markdown",
   "metadata": {},
   "source": [
    "### Linear Model"
   ]
  },
  {
   "cell_type": "code",
   "execution_count": 4,
   "metadata": {},
   "outputs": [],
   "source": [
    "a = tf.Variable(1.0,name='a')\n",
    "b = tf.Variable(0.2,name='b')\n",
    "y = a*x_data + b\n",
    "loss = tf.reduce_mean(tf.square(y-y_data),name='loss')"
   ]
  },
  {
   "cell_type": "markdown",
   "metadata": {},
   "source": [
    "### optimizer"
   ]
  },
  {
   "cell_type": "code",
   "execution_count": 5,
   "metadata": {},
   "outputs": [],
   "source": [
    "optimizer = tf.train.GradientDescentOptimizer(0.5)  # 0.5 = learning_rate\n",
    "train = optimizer.minimize(loss)"
   ]
  },
  {
   "cell_type": "code",
   "execution_count": 6,
   "metadata": {},
   "outputs": [],
   "source": [
    "init_op  = tf.global_variables_initializer()\n",
    "session = tf.Session()\n",
    "session.run(init_op)"
   ]
  },
  {
   "cell_type": "markdown",
   "metadata": {},
   "source": [
    "# Train"
   ]
  },
  {
   "cell_type": "code",
   "execution_count": 7,
   "metadata": {},
   "outputs": [
    {
     "name": "stdout",
     "output_type": "stream",
     "text": [
      "0 [2.7121987, 3.085171]\n",
      "0.87304235\n",
      "5 [2.480454, 2.296805]\n",
      "0.026405673\n",
      "10 [2.604866, 2.227954]\n",
      "0.01849268\n",
      "15 [2.6960573, 2.1755013]\n",
      "0.014164098\n",
      "20 [2.7635365, 2.1366937]\n",
      "0.0117941145\n",
      "25 [2.813467, 2.107978]\n",
      "0.010496516\n",
      "30 [2.8504128, 2.0867305]\n",
      "0.009786062\n",
      "35 [2.8777506, 2.0710082]\n",
      "0.009397069\n",
      "40 [2.8979795, 2.0593746]\n",
      "0.0091840895\n",
      "45 [2.9129474, 2.0507665]\n",
      "0.009067478\n",
      "50 [2.9240227, 2.0443969]\n",
      "0.009003632\n",
      "55 [2.932218, 2.0396838]\n",
      "0.008968677\n",
      "60 [2.938282, 2.0361962]\n",
      "0.008949542\n",
      "65 [2.942769, 2.0336158]\n",
      "0.008939065\n",
      "70 [2.946089, 2.0317063]\n",
      "0.008933321\n",
      "75 [2.948546, 2.0302935]\n",
      "0.008930181\n",
      "80 [2.9503639, 2.029248]\n",
      "0.008928461\n",
      "85 [2.9517088, 2.0284743]\n",
      "0.008927519\n",
      "90 [2.9527042, 2.0279021]\n",
      "0.008927004\n",
      "95 [2.9534407, 2.0274785]\n",
      "0.008926724\n"
     ]
    }
   ],
   "source": [
    "train_data = []\n",
    "for step in range(100):\n",
    "    evals = session.run([train,a,b])[1:]\n",
    "    if step%5 == 0:\n",
    "        print(step,evals)\n",
    "        print(session.run(loss))\n",
    "        train_data.append(evals)\n",
    "tf.summary.FileWriter(\"./tensorboard/V5\", session.graph);"
   ]
  },
  {
   "cell_type": "code",
   "execution_count": 8,
   "metadata": {},
   "outputs": [
    {
     "data": {
      "image/png": "[encoded data removed]",
      "text/plain": [
       "<Figure size 432x288 with 1 Axes>"
      ]
     },
     "metadata": {},
     "output_type": "display_data"
    }
   ],
   "source": [
    "converter = plt.colors\n",
    "cr, cg, cb = (1.0, 1.0, 0.0)\n",
    "for f in train_data:\n",
    "    cb += 1.0 / len(train_data)\n",
    "    cg -= 1.0 / len(train_data)\n",
    "    if cb > 1.0: cb = 1.0\n",
    "    if cg < 0.0: cg = 0.0\n",
    "    [a, b] = f\n",
    "    f_y = np.vectorize(lambda x: a*x + b)(x_data)\n",
    "    line = plt.plot(x_data, f_y)\n",
    "    plt.setp(line, color=(cr,cg,cb))\n",
    "\n",
    "plt.plot(x_data, y_data, 'ro')\n",
    "\n",
    "\n",
    "green_line = mpatches.Patch(color='red', label='Data Points')\n",
    "\n",
    "plt.legend(handles=[green_line])\n",
    "\n",
    "plt.show()"
   ]
  },
  {
   "cell_type": "code",
   "execution_count": null,
   "metadata": {},
   "outputs": [],
   "source": []
  }
 ],
 "metadata": {
  "kernelspec": {
   "display_name": "Python 3",
   "language": "python",
   "name": "python3"
  },
  "language_info": {
   "codemirror_mode": {
    "name": "ipython",
    "version": 3
   },
   "file_extension": ".py",
   "mimetype": "text/x-python",
   "name": "python",
   "nbconvert_exporter": "python",
   "pygments_lexer": "ipython3",
   "version": "3.6.5"
  }
 },
 "nbformat": 4,
 "nbformat_minor": 2
}

{
 "cells": [
  {
   "cell_type": "markdown",
   "metadata": {},
   "source": [
    "# Logistic Regression"
   ]
  },
  {
   "cell_type": "code",
   "execution_count": 1,
   "metadata": {},
   "outputs": [
    {
     "name": "stderr",
     "output_type": "stream",
     "text": [
      "/home/kilean/anaconda3/lib/python3.6/site-packages/h5py/__init__.py:36: FutureWarning: Conversion of the second argument of issubdtype from `float` to `np.floating` is deprecated. In future, it will be treated as `np.float64 == np.dtype(float).type`.\n",
      "  from ._conv import register_converters as _register_converters\n"
     ]
    }
   ],
   "source": [
    "import tensorflow as tf\n",
    "import pandas as pd\n",
    "import numpy as np\n",
    "import time\n",
    "from sklearn.datasets import load_iris\n",
    "from sklearn.model_selection import train_test_split\n",
    "import matplotlib.pyplot as plt\n",
    "tf.reset_default_graph()"
   ]
  },
  {
   "cell_type": "markdown",
   "metadata": {},
   "source": [
    "# Data preparation"
   ]
  },
  {
   "cell_type": "code",
   "execution_count": 2,
   "metadata": {},
   "outputs": [],
   "source": [
    "# print(load_iris.__doc__)"
   ]
  },
  {
   "cell_type": "code",
   "execution_count": 3,
   "metadata": {},
   "outputs": [],
   "source": [
    "# print(train_test_split.__doc__)"
   ]
  },
  {
   "cell_type": "markdown",
   "metadata": {},
   "source": [
    "### Load data"
   ]
  },
  {
   "cell_type": "code",
   "execution_count": 4,
   "metadata": {},
   "outputs": [
    {
     "name": "stdout",
     "output_type": "stream",
     "text": [
      "iris_keys     =  dict_keys(['data', 'target', 'target_names', 'DESCR', 'feature_names'])\n",
      "feature_names =  ['sepal length (cm)', 'sepal width (cm)', 'petal length (cm)', 'petal width (cm)']\n",
      "data          =  [5.1 3.5 1.4 0.2]\n",
      "target_names  =  ['setosa' 'versicolor' 'virginica']\n",
      "target        =  0\n"
     ]
    }
   ],
   "source": [
    "iris = load_iris()\n",
    "print('iris_keys     = ',iris.keys())\n",
    "print('feature_names = ',iris.feature_names)\n",
    "print('data          = ',iris.data[0])\n",
    "print('target_names  = ',iris.target_names)\n",
    "print('target        = ',iris.target[0])"
   ]
  },
  {
   "cell_type": "code",
   "execution_count": 5,
   "metadata": {},
   "outputs": [
    {
     "name": "stdout",
     "output_type": "stream",
     "text": [
      "[0 0 0 0 0 0 0 0 0 0 0 0 0 0 0 0 0 0 0 0 0 0 0 0 0 0 0 0 0 0 0 0 0 0 0 0 0\n",
      " 0 0 0 0 0 0 0 0 0 0 0 0 0 1 1 1 1 1 1 1 1 1 1 1 1 1 1 1 1 1 1 1 1 1 1 1 1\n",
      " 1 1 1 1 1 1 1 1 1 1 1 1 1 1 1 1 1 1 1 1 1 1 1 1 1 1 2 2 2 2 2 2 2 2 2 2 2\n",
      " 2 2 2 2 2 2 2 2 2 2 2 2 2 2 2 2 2 2 2 2 2 2 2 2 2 2 2 2 2 2 2 2 2 2 2 2 2\n",
      " 2 2]\n"
     ]
    }
   ],
   "source": [
    "iris_X, iris_y = iris.data[:,:], iris.target[:]\n",
    "print(iris_y)"
   ]
  },
  {
   "cell_type": "markdown",
   "metadata": {},
   "source": [
    "### Data Manipulation (one-hot encoding)"
   ]
  },
  {
   "cell_type": "code",
   "execution_count": 6,
   "metadata": {},
   "outputs": [
    {
     "name": "stdout",
     "output_type": "stream",
     "text": [
      "     0  1  2\n",
      "0    1  0  0\n",
      "1    1  0  0\n",
      "2    1  0  0\n",
      "3    1  0  0\n",
      "4    1  0  0\n",
      "5    1  0  0\n",
      "6    1  0  0\n",
      "7    1  0  0\n",
      "8    1  0  0\n",
      "9    1  0  0\n",
      "10   1  0  0\n",
      "11   1  0  0\n",
      "12   1  0  0\n",
      "13   1  0  0\n",
      "14   1  0  0\n",
      "15   1  0  0\n",
      "16   1  0  0\n",
      "17   1  0  0\n",
      "18   1  0  0\n",
      "19   1  0  0\n",
      "20   1  0  0\n",
      "21   1  0  0\n",
      "22   1  0  0\n",
      "23   1  0  0\n",
      "24   1  0  0\n",
      "25   1  0  0\n",
      "26   1  0  0\n",
      "27   1  0  0\n",
      "28   1  0  0\n",
      "29   1  0  0\n",
      "..  .. .. ..\n",
      "120  0  0  1\n",
      "121  0  0  1\n",
      "122  0  0  1\n",
      "123  0  0  1\n",
      "124  0  0  1\n",
      "125  0  0  1\n",
      "126  0  0  1\n",
      "127  0  0  1\n",
      "128  0  0  1\n",
      "129  0  0  1\n",
      "130  0  0  1\n",
      "131  0  0  1\n",
      "132  0  0  1\n",
      "133  0  0  1\n",
      "134  0  0  1\n",
      "135  0  0  1\n",
      "136  0  0  1\n",
      "137  0  0  1\n",
      "138  0  0  1\n",
      "139  0  0  1\n",
      "140  0  0  1\n",
      "141  0  0  1\n",
      "142  0  0  1\n",
      "143  0  0  1\n",
      "144  0  0  1\n",
      "145  0  0  1\n",
      "146  0  0  1\n",
      "147  0  0  1\n",
      "148  0  0  1\n",
      "149  0  0  1\n",
      "\n",
      "[150 rows x 3 columns]\n"
     ]
    }
   ],
   "source": [
    "print(pd.get_dummies(iris_y))"
   ]
  },
  {
   "cell_type": "code",
   "execution_count": 7,
   "metadata": {},
   "outputs": [
    {
     "name": "stdout",
     "output_type": "stream",
     "text": [
      "[1 0 0]\n",
      "[0 0 1]\n"
     ]
    }
   ],
   "source": [
    "iris_y= pd.get_dummies(iris_y).values\n",
    "print(iris_y[0 ])\n",
    "print(iris_y[-1])"
   ]
  },
  {
   "cell_type": "code",
   "execution_count": 8,
   "metadata": {},
   "outputs": [],
   "source": [
    "# print(pd.get_dummies.__doc__)"
   ]
  },
  {
   "cell_type": "code",
   "execution_count": 9,
   "metadata": {},
   "outputs": [],
   "source": [
    "# print(pd.DataFrame.values.__doc__)"
   ]
  },
  {
   "cell_type": "markdown",
   "metadata": {},
   "source": [
    "### Random Shuffling and Splitting into <font color='red'>Train</font> and <font color='red'>Test</font> set"
   ]
  },
  {
   "cell_type": "code",
   "execution_count": 10,
   "metadata": {},
   "outputs": [],
   "source": [
    "trainX, testX, trainY, testY = train_test_split(iris_X, iris_y, test_size=0.33)"
   ]
  },
  {
   "cell_type": "markdown",
   "metadata": {},
   "source": [
    "# Create Graph"
   ]
  },
  {
   "cell_type": "markdown",
   "metadata": {},
   "source": [
    "### Linear Model"
   ]
  },
  {
   "cell_type": "code",
   "execution_count": 11,
   "metadata": {},
   "outputs": [],
   "source": [
    "numFeatures = trainX.shape[1]\n",
    "numLabels   = trainY.shape[1]\n",
    "\n",
    "# Placeholders\n",
    "# 'None' means TensorFlow shouldn't expect a fixed number in that dimension\n",
    "X = tf.placeholder(tf.float32, [None, numFeatures]) # Iris has 4 features, so X is a tensor to hold our data.\n",
    "yGold = tf.placeholder(tf.float32, [None, numLabels]) # This will be our correct answers matrix for 3 classes."
   ]
  },
  {
   "cell_type": "code",
   "execution_count": 12,
   "metadata": {},
   "outputs": [],
   "source": [
    "#Randomly sample from a normal distribution with standard deviation .01\n",
    "weights = tf.Variable(tf.random_normal([numFeatures,numLabels],\n",
    "                                       mean=0,\n",
    "                                       stddev=0.01,\n",
    "                                       name=\"weights\"))\n",
    "bias = tf.Variable(tf.random_normal([1,numLabels],\n",
    "                                    mean=0,\n",
    "                                    stddev=0.01,\n",
    "                                    name=\"bias\"))"
   ]
  },
  {
   "cell_type": "code",
   "execution_count": 13,
   "metadata": {},
   "outputs": [],
   "source": [
    "# Three-component breakdown of the Logistic Regression equation.\n",
    "# Note that these feed into each other.\n",
    "apply_weights_OP = tf.matmul(X, weights, name=\"apply_weights\")\n",
    "add_bias_OP = tf.add(apply_weights_OP, bias, name=\"add_bias\") \n",
    "activation_OP = tf.nn.sigmoid(add_bias_OP, name=\"activation\")"
   ]
  },
  {
   "cell_type": "markdown",
   "metadata": {},
   "source": [
    "### optimizer"
   ]
  },
  {
   "cell_type": "markdown",
   "metadata": {},
   "source": [
    "# Train"
   ]
  },
  {
   "cell_type": "code",
   "execution_count": 14,
   "metadata": {},
   "outputs": [],
   "source": [
    "numEpochs = 700 # Number of Epochs in our training\n",
    "\n",
    "# decaying learning rate\n",
    "learningRate = tf.train.exponential_decay(learning_rate=0.001,\n",
    "                                          global_step= 1,\n",
    "                                          decay_steps=trainX.shape[0],\n",
    "                                          decay_rate= 0.95,\n",
    "                                          staircase=True)"
   ]
  },
  {
   "cell_type": "code",
   "execution_count": 15,
   "metadata": {},
   "outputs": [],
   "source": [
    "# print(tf.train.exponential_decay.__doc__)"
   ]
  },
  {
   "cell_type": "code",
   "execution_count": 16,
   "metadata": {},
   "outputs": [],
   "source": [
    "cost_OP = tf.nn.l2_loss(activation_OP-yGold, name=\"squared_error_cost\")\n",
    "training_OP = tf.train.GradientDescentOptimizer(learningRate).minimize(cost_OP)"
   ]
  },
  {
   "cell_type": "code",
   "execution_count": 17,
   "metadata": {},
   "outputs": [],
   "source": [
    "sess = tf.Session()\n",
    "init_OP = tf.global_variables_initializer()\n",
    "sess.run(init_OP)"
   ]
  },
  {
   "cell_type": "code",
   "execution_count": 18,
   "metadata": {},
   "outputs": [],
   "source": [
    "# print(tf.summary.histogram.__doc__)"
   ]
  },
  {
   "cell_type": "code",
   "execution_count": 19,
   "metadata": {},
   "outputs": [],
   "source": [
    "# print(tf.summary.FileWriter.__doc__)"
   ]
  },
  {
   "cell_type": "code",
   "execution_count": 20,
   "metadata": {},
   "outputs": [],
   "source": [
    "correct_predictions_OP = tf.equal(tf.argmax(activation_OP,1),tf.argmax(yGold,1))\n",
    "accuracy_OP            = tf.reduce_mean(tf.cast(correct_predictions_OP, \"float\"))\n",
    "\n",
    "# Summary op\n",
    "activation_summary_OP = tf.summary.histogram(\"output\", activation_OP)\n",
    "accuracy_summary_OP   = tf.summary.scalar(\"accuracy\", accuracy_OP)\n",
    "cost_summary_OP       = tf.summary.scalar(\"cost\", cost_OP)\n",
    "weightSummary         = tf.summary.histogram(\"weights\", weights)#.eval(session=sess))\n",
    "biasSummary           = tf.summary.histogram(\"biases\", bias)#.eval(session=sess))\n",
    "merged                = tf.summary.merge([activation_summary_OP, accuracy_summary_OP, cost_summary_OP, weightSummary, biasSummary])\n",
    "writer                = tf.summary.FileWriter(\"./tensorboard/V6\", sess.graph)"
   ]
  },
  {
   "cell_type": "code",
   "execution_count": 21,
   "metadata": {},
   "outputs": [
    {
     "name": "stdout",
     "output_type": "stream",
     "text": [
      "step 0, training accuracy 0.37, cost 34.2586, change in cost 34.2586\n",
      "step 10, training accuracy 0.63, cost 29.69, change in cost 4.56858\n",
      "step 20, training accuracy 0.64, cost 27.4168, change in cost 2.27315\n",
      "step 30, training accuracy 0.64, cost 25.5982, change in cost 1.8186\n",
      "step 40, training accuracy 0.64, cost 24.166, change in cost 1.43228\n",
      "step 50, training accuracy 0.64, cost 23.0362, change in cost 1.12974\n",
      "step 60, training accuracy 0.64, cost 22.1353, change in cost 0.900919\n",
      "step 70, training accuracy 0.64, cost 21.4059, change in cost 0.729435\n",
      "step 80, training accuracy 0.65, cost 20.8055, change in cost 0.600357\n",
      "step 90, training accuracy 0.66, cost 20.3033, change in cost 0.502167\n",
      "step 100, training accuracy 0.66, cost 19.8769, change in cost 0.426456\n",
      "step 110, training accuracy 0.66, cost 19.5096, change in cost 0.367266\n",
      "step 120, training accuracy 0.66, cost 19.1893, change in cost 0.320318\n",
      "step 130, training accuracy 0.68, cost 18.9067, change in cost 0.282593\n",
      "step 140, training accuracy 0.69, cost 18.6548, change in cost 0.251881\n",
      "step 150, training accuracy 0.72, cost 18.4282, change in cost 0.226583\n",
      "step 160, training accuracy 0.73, cost 18.2227, change in cost 0.205517\n",
      "step 170, training accuracy 0.74, cost 18.0349, change in cost 0.187788\n",
      "step 180, training accuracy 0.75, cost 17.8622, change in cost 0.172737\n",
      "step 190, training accuracy 0.76, cost 17.7024, change in cost 0.159834\n",
      "step 200, training accuracy 0.79, cost 17.5537, change in cost 0.148684\n",
      "step 210, training accuracy 0.79, cost 17.4147, change in cost 0.138981\n",
      "step 220, training accuracy 0.79, cost 17.2842, change in cost 0.130468\n",
      "step 230, training accuracy 0.8, cost 17.1613, change in cost 0.122957\n",
      "step 240, training accuracy 0.8, cost 17.045, change in cost 0.116282\n",
      "step 250, training accuracy 0.8, cost 16.9347, change in cost 0.110323\n",
      "step 260, training accuracy 0.8, cost 16.8297, change in cost 0.104961\n",
      "step 270, training accuracy 0.82, cost 16.7296, change in cost 0.100128\n",
      "step 280, training accuracy 0.82, cost 16.6338, change in cost 0.0957451\n",
      "step 290, training accuracy 0.83, cost 16.5421, change in cost 0.0917435\n",
      "step 300, training accuracy 0.84, cost 16.454, change in cost 0.0880852\n",
      "step 310, training accuracy 0.84, cost 16.3693, change in cost 0.0847244\n",
      "step 320, training accuracy 0.84, cost 16.2877, change in cost 0.0816269\n",
      "step 330, training accuracy 0.84, cost 16.2089, change in cost 0.0787582\n",
      "step 340, training accuracy 0.84, cost 16.1328, change in cost 0.0760918\n",
      "step 350, training accuracy 0.84, cost 16.0592, change in cost 0.0736141\n",
      "step 360, training accuracy 0.85, cost 15.9879, change in cost 0.0712996\n",
      "step 370, training accuracy 0.86, cost 15.9188, change in cost 0.0691309\n",
      "step 380, training accuracy 0.86, cost 15.8517, change in cost 0.0670967\n",
      "step 390, training accuracy 0.86, cost 15.7865, change in cost 0.0651817\n",
      "step 400, training accuracy 0.86, cost 15.7231, change in cost 0.0633745\n",
      "step 410, training accuracy 0.88, cost 15.6614, change in cost 0.0616693\n",
      "step 420, training accuracy 0.88, cost 15.6014, change in cost 0.0600529\n",
      "step 430, training accuracy 0.88, cost 15.5429, change in cost 0.0585194\n",
      "step 440, training accuracy 0.88, cost 15.4858, change in cost 0.0570641\n",
      "step 450, training accuracy 0.89, cost 15.4301, change in cost 0.0556774\n",
      "step 460, training accuracy 0.89, cost 15.3758, change in cost 0.0543556\n",
      "step 470, training accuracy 0.89, cost 15.3227, change in cost 0.053093\n",
      "step 480, training accuracy 0.89, cost 15.2708, change in cost 0.0518856\n",
      "step 490, training accuracy 0.89, cost 15.2201, change in cost 0.0507355\n",
      "step 500, training accuracy 0.89, cost 15.1704, change in cost 0.0496244\n",
      "step 510, training accuracy 0.89, cost 15.1219, change in cost 0.0485668\n",
      "step 520, training accuracy 0.89, cost 15.0743, change in cost 0.0475435\n",
      "step 530, training accuracy 0.89, cost 15.0278, change in cost 0.046567\n",
      "step 540, training accuracy 0.89, cost 14.9821, change in cost 0.04562\n",
      "step 550, training accuracy 0.89, cost 14.9374, change in cost 0.044713\n",
      "step 560, training accuracy 0.89, cost 14.8936, change in cost 0.0438375\n",
      "step 570, training accuracy 0.89, cost 14.8506, change in cost 0.0429907\n",
      "step 580, training accuracy 0.89, cost 14.8084, change in cost 0.0421753\n",
      "step 590, training accuracy 0.89, cost 14.767, change in cost 0.0413857\n",
      "step 600, training accuracy 0.89, cost 14.7264, change in cost 0.0406246\n",
      "step 610, training accuracy 0.89, cost 14.6865, change in cost 0.0398836\n",
      "step 620, training accuracy 0.89, cost 14.6474, change in cost 0.0391722\n",
      "step 630, training accuracy 0.89, cost 14.6089, change in cost 0.0384779\n",
      "step 640, training accuracy 0.91, cost 14.5711, change in cost 0.0378065\n",
      "step 650, training accuracy 0.91, cost 14.5339, change in cost 0.0371561\n",
      "step 660, training accuracy 0.91, cost 14.4974, change in cost 0.036521\n",
      "step 670, training accuracy 0.91, cost 14.4615, change in cost 0.0359116\n",
      "step 680, training accuracy 0.92, cost 14.4262, change in cost 0.0353127\n",
      "step 690, training accuracy 0.94, cost 14.3914, change in cost 0.0347347\n",
      "final accuracy on test set: 0.94\n"
     ]
    }
   ],
   "source": [
    "# Initialize reporting variables\n",
    "cost = 0\n",
    "diff = 1\n",
    "epoch_values = []\n",
    "accuracy_values = []\n",
    "cost_values = []\n",
    "\n",
    "# Training epochs\n",
    "for i in range(numEpochs):\n",
    "    if i > 1 and diff < .0001:\n",
    "        print(\"change in cost %g; convergence.\"%diff)\n",
    "        break\n",
    "    else:\n",
    "        sess.run(training_OP, feed_dict={X: trainX, yGold: trainY})\n",
    "        if i % 10 == 0:\n",
    "            epoch_values.append(i)\n",
    "            train_accuracy, newCost, summary = sess.run([accuracy_OP, cost_OP, merged], feed_dict={X: trainX, yGold: trainY})#{X: trainX, yGold: trainY})\n",
    "            accuracy_values.append(train_accuracy)\n",
    "            cost_values.append(newCost)\n",
    "            diff = abs(newCost - cost)\n",
    "            cost = newCost\n",
    "            print(\"step %d, training accuracy %g, cost %g, change in cost %g\"%(i, train_accuracy, newCost, diff))\n",
    "            writer.add_summary(summary,i)\n",
    "\n",
    "print(\"final accuracy on test set: %s\" %str(sess.run(accuracy_OP, \n",
    "                                                     feed_dict={X: testX, \n",
    "                                                                yGold: testY})))"
   ]
  },
  {
   "cell_type": "code",
   "execution_count": 22,
   "metadata": {},
   "outputs": [
    {
     "name": "stderr",
     "output_type": "stream",
     "text": [
      "/home/kilean/anaconda3/lib/python3.6/site-packages/numpy/core/fromnumeric.py:2920: RuntimeWarning: Mean of empty slice.\n",
      "  out=out, **kwargs)\n",
      "/home/kilean/anaconda3/lib/python3.6/site-packages/numpy/core/_methods.py:85: RuntimeWarning: invalid value encountered in double_scalars\n",
      "  ret = ret.dtype.type(ret / rcount)\n"
     ]
    },
    {
     "data": {
      "image/png": "[encoded data removed]",
      "text/plain": [
       "<Figure size 432x288 with 1 Axes>"
      ]
     },
     "metadata": {},
     "output_type": "display_data"
    }
   ],
   "source": [
    "%matplotlib inline\n",
    "import numpy as np\n",
    "import matplotlib.pyplot as plt\n",
    "plt.plot([np.mean(cost_values[i-50:i]) for i in range(len(cost_values))])\n",
    "plt.show()"
   ]
  }
 ],
 "metadata": {
  "kernelspec": {
   "display_name": "Python 3",
   "language": "python",
   "name": "python3"
  },
  "language_info": {
   "codemirror_mode": {
    "name": "ipython",
    "version": 3
   },
   "file_extension": ".py",
   "mimetype": "text/x-python",
   "name": "python",
   "nbconvert_exporter": "python",
   "pygments_lexer": "ipython3",
   "version": "3.6.5"
  }
 },
 "nbformat": 4,
 "nbformat_minor": 2
}
